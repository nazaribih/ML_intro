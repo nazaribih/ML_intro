{
  "nbformat": 4,
  "nbformat_minor": 0,
  "metadata": {
    "colab": {
      "provenance": [],
      "collapsed_sections": [
        "LBxzhCAiUvuE",
        "JmJrQlZ-ULFr",
        "mqJnISAEUk5l",
        "Pb0UcLAw-c8L",
        "yyXDC1jnBhTF",
        "AOBuUy2jMdxe",
        "AibX9y2qLwIv",
        "OdicMTtK_auo",
        "MrhitsZ4-lPN",
        "3tIUGvgYOy3Z",
        "9aMmwlcBOc-9",
        "yS74GzHfOOEl",
        "xnyepFf5PFjj"
      ],
      "include_colab_link": true
    },
    "kernelspec": {
      "name": "python3",
      "display_name": "Python 3"
    },
    "language_info": {
      "name": "python"
    }
  },
  "cells": [
    {
      "cell_type": "markdown",
      "metadata": {
        "id": "view-in-github",
        "colab_type": "text"
      },
      "source": [
        "<a href=\"https://colab.research.google.com/github/nazaribih/ML_intro/blob/main/Diabetes_detection_Feature_Engineering_and_Modeling.ipynb\" target=\"_parent\"><img src=\"https://colab.research.google.com/assets/colab-badge.svg\" alt=\"Open In Colab\"/></a>"
      ]
    },
    {
      "cell_type": "markdown",
      "source": [
        "#*Diabetes Detection - Feature Engineering*\n",
        "\n",
        "Nazarii Bihniak, Katarzyna Rogalska"
      ],
      "metadata": {
        "id": "a-CeKyPkUQYR"
      }
    },
    {
      "cell_type": "markdown",
      "source": [
        "## Mount to Google Drive"
      ],
      "metadata": {
        "id": "LBxzhCAiUvuE"
      }
    },
    {
      "cell_type": "code",
      "source": [
        "from google.colab import drive\n",
        "drive.mount('/content/drive')"
      ],
      "metadata": {
        "id": "s6vNVt1-Uugb",
        "colab": {
          "base_uri": "https://localhost:8080/"
        },
        "outputId": "3f57c44b-6bc5-49a3-d949-27cd98ca06d5"
      },
      "execution_count": null,
      "outputs": [
        {
          "output_type": "stream",
          "name": "stdout",
          "text": [
            "Mounted at /content/drive\n"
          ]
        }
      ]
    },
    {
      "cell_type": "markdown",
      "source": [
        "## Imports and data loading"
      ],
      "metadata": {
        "id": "JmJrQlZ-ULFr"
      }
    },
    {
      "cell_type": "code",
      "execution_count": null,
      "metadata": {
        "id": "M4g3ZbeCMvLv"
      },
      "outputs": [],
      "source": [
        "import csv\n",
        "import pandas as pd\n",
        "import numpy as np\n",
        "import matplotlib.pyplot as plt\n",
        "import plotly.express as px\n",
        "import seaborn as sns\n",
        "\n",
        "# df read from Colab/github\n",
        "# df = pd.read_csv(\"/content/diabetes_012_health_indicators_BRFSS2015.csv\")\n",
        "\n",
        "# df read from Google Drive if mounted - Nazarii\n",
        "df = pd.read_csv(\"/content/drive/MyDrive/ml_diabetes/diabetes_012_health_indicators_BRFSS2015.csv\")\n",
        "\n",
        "# df read from Google Drive if mounted - Kasia\n",
        "# df = pd.read_csv(\"/content/drive/MyDrive/CSV_ML/diabetes_012_health_indicators_BRFSS2015.csv\")"
      ]
    },
    {
      "cell_type": "markdown",
      "source": [
        "## Train Validation Test Split"
      ],
      "metadata": {
        "id": "mqJnISAEUk5l"
      }
    },
    {
      "cell_type": "code",
      "source": [
        "from sklearn.model_selection import train_test_split\n",
        "\n",
        "y = np.array(df['Diabetes_012'])\n",
        "X = df.drop(['Diabetes_012'], axis=1)\n",
        "\n",
        "X_train, X_val, Y_train, Y_val = train_test_split(X, y, stratify=y, test_size=0.3, random_state=42)\n",
        "\n",
        "X_val, X_test, Y_val, Y_test = train_test_split(X_val, Y_val, stratify=Y_val, test_size=0.3, random_state=42)\n",
        "\n",
        "#dane dla grupy walidacyjnej\n",
        "test_df = X_test.copy()\n",
        "test_df['Diabetes_012']=Y_test.copy()\n",
        "\n",
        "#dane dla nas do walidowania modeli\n",
        "val_df = X_val.copy()\n",
        "val_df['Diabetes_012']= Y_val.copy()\n",
        "\n",
        "#dane do trenowania\n",
        "train_df = X_train.copy()\n",
        "train_df['Diabetes_012']=Y_train.copy()\n"
      ],
      "metadata": {
        "id": "WQo6u_49UHws"
      },
      "execution_count": null,
      "outputs": []
    },
    {
      "cell_type": "markdown",
      "source": [
        "## Feature importance methods (original df)"
      ],
      "metadata": {
        "id": "Pb0UcLAw-c8L"
      }
    },
    {
      "cell_type": "markdown",
      "source": [
        "**For categorical features we will use:**\n",
        "* Chi-Squared Test - specifically for categorical variables!\n",
        "* KBest\n",
        "* Mutual Information\n",
        "* RandomForest feature importance"
      ],
      "metadata": {
        "id": "2dsEMuEt-kMD"
      }
    },
    {
      "cell_type": "code",
      "source": [
        "# chi2\n",
        "from sklearn.feature_selection import chi2\n",
        "\n",
        "X= train_df.drop(columns=['Diabetes_012'])\n",
        "y=train_df['Diabetes_012']\n",
        "\n",
        "chi_scores = chi2(X,y)\n",
        "chi_values = pd.Series(chi_scores[0], X.columns) # the higher the score,the  higher the importance\n",
        "chi_values.sort_values(ascending=False, inplace=True)\n",
        "chi_values.plot.bar()\n",
        "\n",
        "chi_before_binning=chi_values"
      ],
      "metadata": {
        "colab": {
          "base_uri": "https://localhost:8080/",
          "height": 568
        },
        "id": "psULr8kk-nMT",
        "outputId": "71eee447-7040-4224-997a-1aed173cc66a"
      },
      "execution_count": null,
      "outputs": [
        {
          "output_type": "display_data",
          "data": {
            "text/plain": [
              "<Figure size 640x480 with 1 Axes>"
            ],
            "image/png": "[encoded data removed]"
          },
          "metadata": {}
        }
      ]
    },
    {
      "cell_type": "markdown",
      "source": [
        "* We can see that the most important features are Physical and mental health, BMI, HighBP\n",
        "* the least important features are AnyHealthCare, Cholcheck (which we will drop because we have results of chol check in HighChol column), sex, veggies, fruits\n",
        "* we had similar observations from EDA"
      ],
      "metadata": {
        "id": "q1ONUM3h-sp6"
      }
    },
    {
      "cell_type": "code",
      "source": [
        "# K best features\n",
        "from sklearn.feature_selection import SelectKBest\n",
        "from sklearn.feature_selection import f_classif\n",
        "k_best = SelectKBest(score_func=f_classif, k=15)\n",
        "k_best_fit = k_best.fit(X,y)\n",
        "X.columns[k_best_fit.get_support(indices=True)].tolist()"
      ],
      "metadata": {
        "colab": {
          "base_uri": "https://localhost:8080/"
        },
        "id": "Rtla4uIgAeve",
        "outputId": "a8de5048-11d5-4f12-8af5-703d4bc95a40"
      },
      "execution_count": null,
      "outputs": [
        {
          "output_type": "execute_result",
          "data": {
            "text/plain": [
              "['HighBP',\n",
              " 'HighChol',\n",
              " 'CholCheck',\n",
              " 'BMI',\n",
              " 'Smoker',\n",
              " 'Stroke',\n",
              " 'HeartDiseaseorAttack',\n",
              " 'PhysActivity',\n",
              " 'GenHlth',\n",
              " 'MentHlth',\n",
              " 'PhysHlth',\n",
              " 'DiffWalk',\n",
              " 'Age',\n",
              " 'Education',\n",
              " 'Income']"
            ]
          },
          "metadata": {},
          "execution_count": 6
        }
      ]
    },
    {
      "cell_type": "markdown",
      "source": [
        "* similar results as from chi2"
      ],
      "metadata": {
        "id": "rhOk2ttkAgWT"
      }
    },
    {
      "cell_type": "code",
      "source": [
        "# Mutual information\n",
        "from sklearn.feature_selection import mutual_info_classif\n",
        "mutual_info = mutual_info_classif(X,y)\n",
        "mutual_info = pd.Series(mutual_info)\n",
        "mutual_info.index = X.columns\n",
        "mutual_info.sort_values(ascending=False).plot.bar()\n",
        "\n",
        "MI_before_binning=mutual_info"
      ],
      "metadata": {
        "colab": {
          "base_uri": "https://localhost:8080/",
          "height": 568
        },
        "id": "T321POQzxCPE",
        "outputId": "d070f748-44e5-4ddb-ff3c-6d22bb1cb3e6"
      },
      "execution_count": null,
      "outputs": [
        {
          "output_type": "display_data",
          "data": {
            "text/plain": [
              "<Figure size 640x480 with 1 Axes>"
            ],
            "image/png": "[encoded data removed]"
          },
          "metadata": {}
        }
      ]
    },
    {
      "cell_type": "markdown",
      "source": [
        "* results are slightly different from the previous ones\n",
        "* AbyHealthcare,Fruits, Veggies,  which had no importance, is quite high here (what does it mean?)\n",
        "* Many features that were 'important' in other metrics are also important using mutual information\n"
      ],
      "metadata": {
        "id": "-hAFWZowxRrp"
      }
    },
    {
      "cell_type": "code",
      "source": [
        "#Random Forest\n",
        "from sklearn.ensemble import RandomForestClassifier\n",
        "\n",
        "X=train_df.drop(columns='Diabetes_012')\n",
        "y=train_df['Diabetes_012']\n",
        "forest=RandomForestClassifier(n_estimators=500, random_state=1)\n",
        "forest.fit(X,y)\n",
        "importances = forest.feature_importances_\n",
        "\n",
        "feature_names = X.columns\n",
        "indices = importances.argsort()[::-1]\n",
        "\n",
        "plt.figure(figsize=(10, 6))\n",
        "plt.bar(range(X.shape[1]), importances[indices], align=\"center\")\n",
        "plt.xticks(range(X.shape[1]), feature_names[indices], rotation=90)\n",
        "plt.tight_layout()\n",
        "plt.show()"
      ],
      "metadata": {
        "colab": {
          "base_uri": "https://localhost:8080/",
          "height": 607
        },
        "id": "kXf8zugoxov7",
        "outputId": "46eb460d-85bc-4af1-a7b7-ee1cc299fd54"
      },
      "execution_count": null,
      "outputs": [
        {
          "output_type": "display_data",
          "data": {
            "text/plain": [
              "<Figure size 1000x600 with 1 Axes>"
            ],
            "image/png": "[encoded data removed]"
          },
          "metadata": {}
        }
      ]
    },
    {
      "cell_type": "markdown",
      "source": [
        "**Wnioski z powyższych**\n",
        "\n",
        "- najważniejsze kolumny to: BMI, PhysHlth,MentHlth, HighBP, GenHlth, Age, Income, Education\n",
        "- kolumny, które można próbować wyrzucić: AlcoholConsump, Cholcheck, NoDobcCost"
      ],
      "metadata": {
        "id": "KA3epsQ49Cbe"
      }
    },
    {
      "cell_type": "markdown",
      "source": [
        "## Feature binning"
      ],
      "metadata": {
        "id": "yyXDC1jnBhTF"
      }
    },
    {
      "cell_type": "code",
      "source": [
        "def group_by_BMI(BMI):\n",
        "    if BMI < 18.5:\n",
        "        return 'Underweight'\n",
        "    elif  BMI<25:\n",
        "        return 'NormalWeight'\n",
        "    elif BMI< 30:\n",
        "        return 'Overweight'\n",
        "    else:\n",
        "        return 'Obesity'\n",
        "\n",
        "def change_education_to_name(Education):\n",
        "    if Education in [1,2]:\n",
        "        return 'PrimaryEducation'\n",
        "    elif Education in [3,4]:\n",
        "        return 'HighSchoolEducation'\n",
        "    else:\n",
        "        return 'CollageEducation' #collage not finished and bachelors degrees\n",
        "\n",
        "def group_income(Income):\n",
        "    if Income<=3:\n",
        "        return '<=15000$_income'\n",
        "    elif Income<=5:\n",
        "        return '15000$-25000$_income'\n",
        "    elif Income<=7:\n",
        "        return '25000$-50000$_income'\n",
        "    else:\n",
        "        return '50000$+_income'\n",
        "def group_age(Age):\n",
        "    if Age in[1,2,3]:\n",
        "        return 'YoungAdult'\n",
        "    elif Age in[4,5,6,7,8]:\n",
        "        return 'Adult'\n",
        "    else:\n",
        "        return 'Elderly'\n",
        "\n",
        "def group_mental_helath(MentalHealth): #????? JAk lepiej zrobić?\n",
        "    if MentalHealth ==0:\n",
        "      return 0\n",
        "    else:\n",
        "      return 1\n",
        "\n",
        "def group_phys_health(PhysHealth):\n",
        "    if PhysHealth in (0,1,2,3,4,5,6,8,9,10):\n",
        "      return str(PhysHealth)\n",
        "    elif PhysHealth in (11,12,13,14,15):\n",
        "      return 'Medium_PhysHleth'\n",
        "    else:\n",
        "      return 'Bad_physHlth'\n"
      ],
      "metadata": {
        "id": "ZHxJ43OtBkbn"
      },
      "execution_count": null,
      "outputs": []
    },
    {
      "cell_type": "code",
      "source": [
        "def first_binning(X):\n",
        "  A= X.copy()\n",
        "  A['BMI']=A['BMI'].apply(group_by_BMI)\n",
        "  A['Education'] = A['Education'].apply(change_education_to_name)\n",
        "  A['Income']=A['Income'].apply(group_income)\n",
        "  A['Age']=A['Age'].apply(group_age)\n",
        "  return A"
      ],
      "metadata": {
        "id": "g5TUwfBP3nVo"
      },
      "execution_count": null,
      "outputs": []
    },
    {
      "cell_type": "code",
      "source": [
        "from sklearn.preprocessing import LabelEncoder\n",
        "\n",
        "def label_encoding(X):\n",
        "  A= X.copy()\n",
        "  label_encoder = LabelEncoder()\n",
        "  A['BMI'] = label_encoder.fit_transform(A['BMI'])\n",
        "  A['Age'] = label_encoder.fit_transform(A['Age'])\n",
        "  A['Income'] = label_encoder.fit_transform(A['Income'])\n",
        "  A['Education'] = label_encoder.fit_transform(A['Education'])\n",
        "  A['MentHlth'] = label_encoder.fit_transform(A['MentHlth'])\n",
        "  A['PhysHlth'] = label_encoder.fit_transform(A['PhysHlth'])\n",
        "  return A"
      ],
      "metadata": {
        "id": "BoPda8ku5XoW"
      },
      "execution_count": null,
      "outputs": []
    },
    {
      "cell_type": "markdown",
      "source": [
        "**Feature importance after first  binning**"
      ],
      "metadata": {
        "id": "M3pc-AXlyMdi"
      }
    },
    {
      "cell_type": "code",
      "source": [
        "# chi2\n",
        "\n",
        "X_train_binned1= first_binning(X_train) # wywołanie funkcji transofrmacji na X treningowym\n",
        "X_train_labeled1 = label_encoding(X_train_binned1)\n",
        "\n",
        "chi_scores = chi2(X_train_labeled1,Y_train)\n",
        "chi_values = pd.Series(chi_scores[0], X_train_labeled1.columns) # the higher the score,the  higher the importance\n",
        "chi_values.sort_values(ascending=False, inplace=True)\n",
        "\n",
        "print(\"Chi scores before binning vs after binning:\")\n",
        "print(\"BMI:\", chi_before_binning['BMI'] ,\"VS\" ,chi_values[\"BMI\"])\n",
        "print(\"Age:\", chi_before_binning['Age'], \"VS\", chi_values[\"Age\"])\n",
        "print(\"Education:\", chi_before_binning['Education'], \"VS\", chi_values['Education'])\n",
        "print(\"Income:\", chi_before_binning['Income'],\" Vs \", chi_values[\"Income\"])\n"
      ],
      "metadata": {
        "colab": {
          "base_uri": "https://localhost:8080/"
        },
        "id": "Yr2al7NSyQSE",
        "outputId": "42377246-6d76-4740-c136-f64a97e10a01"
      },
      "execution_count": null,
      "outputs": [
        {
          "output_type": "stream",
          "name": "stdout",
          "text": [
            "Chi scores before binning vs after binning:\n",
            "BMI: 13860.484948725429 VS 185.73689075667676\n",
            "Age: 7113.886132861852 VS 49.91950646150602\n",
            "Education: 589.7624312460346 VS 1702.0804603979095\n",
            "Income: 3759.8551882227644  Vs  0.23412971549633757\n"
          ]
        }
      ]
    },
    {
      "cell_type": "markdown",
      "source": [
        "* The importance of BMI, Age, Income, MentalHealth, PhysHlth significantly decreased after binning\n",
        "* the importance of education increased: 589 before, now: 1702"
      ],
      "metadata": {
        "id": "EEtZRzl81Le8"
      }
    },
    {
      "cell_type": "markdown",
      "source": [
        "**The first binning wasn't succesfull, Maybe the original categories in our data shouldn't be changed to bigger bins**"
      ],
      "metadata": {
        "id": "A97_GMjM5Occ"
      }
    },
    {
      "cell_type": "markdown",
      "source": [
        "Let's try binning BMI and Age the other way because they have the most unique values, and leave the other ones (they are already categorical)"
      ],
      "metadata": {
        "id": "t3kcvzq_Cov9"
      }
    },
    {
      "cell_type": "code",
      "source": [
        "def second_binning(X):\n",
        "  A=X.copy()\n",
        "  A['BMI'] = pd.qcut(A['BMI'], q=10, labels=False)\n",
        "  A['Age'] = pd.qcut(A['Age'], q=7 ,labels=[0,1,2,3,4,5,6])\n",
        "  return A"
      ],
      "metadata": {
        "id": "Ykjq-WBW6d06"
      },
      "execution_count": null,
      "outputs": []
    },
    {
      "cell_type": "code",
      "source": [
        "X_train_binned2 = second_binning(X_train)\n",
        "X_train_labeled2 = label_encoding(X_train_binned2)"
      ],
      "metadata": {
        "id": "uLesFTjk67UV"
      },
      "execution_count": null,
      "outputs": []
    },
    {
      "cell_type": "code",
      "source": [
        "# chi2 after binning BMI and Age\n",
        "chi_scores = chi2(X_train_labeled2, Y_train)\n",
        "chi_values = pd.Series(chi_scores[0], X_train_labeled2.columns) # the higher the score,the  higher the importance\n",
        "chi_values.sort_values(ascending=False, inplace=True)\n",
        "\n",
        "print(\"Chi scores before binning vs after binning:\")\n",
        "print(\"BMI:\", chi_before_binning['BMI'] ,\"VS\" ,chi_values[\"BMI\"])\n",
        "print(\"Age:\", chi_before_binning['Age'] ,\"VS\" ,chi_values[\"Age\"])"
      ],
      "metadata": {
        "id": "W9kCvGlLC0dM",
        "colab": {
          "base_uri": "https://localhost:8080/"
        },
        "outputId": "d1b145bc-6037-4c93-9282-fb9141ab4f0d"
      },
      "execution_count": null,
      "outputs": [
        {
          "output_type": "stream",
          "name": "stdout",
          "text": [
            "Chi scores before binning vs after binning:\n",
            "BMI: 13860.484948725429 VS 20241.676656833166\n",
            "Age: 7113.886132861852 VS 7818.471902377956\n"
          ]
        }
      ]
    },
    {
      "cell_type": "markdown",
      "source": [
        "* the importance of BMI and Age after new binning increased in chi2"
      ],
      "metadata": {
        "id": "85yjiN5uC6k8"
      }
    },
    {
      "cell_type": "markdown",
      "source": [
        "## Adding new features"
      ],
      "metadata": {
        "id": "AOBuUy2jMdxe"
      }
    },
    {
      "cell_type": "markdown",
      "source": [
        "Let's add some new features to the data frame after 2 binning and see their importance"
      ],
      "metadata": {
        "id": "FBD661ufMlv7"
      }
    },
    {
      "cell_type": "code",
      "source": [
        "train_df.columns"
      ],
      "metadata": {
        "colab": {
          "base_uri": "https://localhost:8080/"
        },
        "id": "g6CR50g-1Q7f",
        "outputId": "cd6ce3e7-3253-41f4-c418-a1dac236c408"
      },
      "execution_count": null,
      "outputs": [
        {
          "output_type": "execute_result",
          "data": {
            "text/plain": [
              "Index(['HighBP', 'HighChol', 'CholCheck', 'BMI', 'Smoker', 'Stroke',\n",
              "       'HeartDiseaseorAttack', 'PhysActivity', 'Fruits', 'Veggies',\n",
              "       'HvyAlcoholConsump', 'AnyHealthcare', 'NoDocbcCost', 'GenHlth',\n",
              "       'MentHlth', 'PhysHlth', 'DiffWalk', 'Sex', 'Age', 'Education', 'Income',\n",
              "       'Diabetes_012'],\n",
              "      dtype='object')"
            ]
          },
          "metadata": {},
          "execution_count": 21
        }
      ]
    },
    {
      "cell_type": "code",
      "source": [
        "def add_new_features_drop_some(X):\n",
        "  A=X.copy()\n",
        "  A['BloodHealth']= A['HighBP'] + A['HighChol']\n",
        "  A['HeartHealth'] = A['Stroke'] + A['HeartDiseaseorAttack']\n",
        "  A['Diat'] = A['Fruits'] + A['Veggies']\n",
        "  A['BMI_GenHlth'] = A['BMI']* A['GenHlth']\n",
        "  A['Mental_Phys_Health'] = A['MentHlth'] + A['PhysHlth']\n",
        "  A= A.drop(columns =['CholCheck', \"GenHlth\",\"NoDocbcCost\",\"HvyAlcoholConsump\",'MentHlth', 'PhysHlth']) # drop reasons:  CholCheck - irrelevant we have HighChol as a result of cholCheck,\n",
        "                                                                    #GenHlth - after creating a new column GenHlth correlation is very high with it\n",
        "  return A"
      ],
      "metadata": {
        "id": "HaRvZGpx7UTX"
      },
      "execution_count": null,
      "outputs": []
    },
    {
      "cell_type": "code",
      "source": [
        "X_train_new_features = add_new_features_drop_some(X_train_binned2)  # adding to binned 2 because we have to bin and the 2nd binning was more succesfull"
      ],
      "metadata": {
        "id": "B59zSOXZ8JyN"
      },
      "execution_count": null,
      "outputs": []
    },
    {
      "cell_type": "code",
      "source": [
        "#feature importance after adding new features\n",
        "\n",
        "chi_scores = chi2(X_train_new_features,Y_train)\n",
        "chi_values = pd.Series(chi_scores[0], X_train_new_features.columns) # the higher the score,the  higher the importance\n",
        "chi_values.sort_values(ascending=False, inplace=True)\n",
        "\n",
        "chi_values.plot.bar()"
      ],
      "metadata": {
        "colab": {
          "base_uri": "https://localhost:8080/",
          "height": 585
        },
        "id": "6xZI03h6M1rA",
        "outputId": "52ba5994-2bd9-45be-a44a-9c0539e18dc7"
      },
      "execution_count": null,
      "outputs": [
        {
          "output_type": "execute_result",
          "data": {
            "text/plain": [
              "<Axes: >"
            ]
          },
          "metadata": {},
          "execution_count": 18
        },
        {
          "output_type": "display_data",
          "data": {
            "text/plain": [
              "<Figure size 640x480 with 1 Axes>"
            ],
            "image/png": "[encoded data removed]"
          },
          "metadata": {}
        }
      ]
    },
    {
      "cell_type": "markdown",
      "source": [
        "* We can see that BMi_GenHealth, bloodHealth and HeartHealth, Mental_phys_health have a significant importance, Diat and stimulants are not so dependent on the target"
      ],
      "metadata": {
        "id": "fMwHpiAhM7jK"
      }
    },
    {
      "cell_type": "code",
      "source": [
        "#random forest feature importance\n",
        "from sklearn.ensemble import RandomForestClassifier\n",
        "forest=RandomForestClassifier(n_estimators=200, random_state=1)\n",
        "forest.fit(X_train_new_features,Y_train)\n",
        "importances = forest.feature_importances_\n",
        "\n",
        "feature_names = X_train_new_features.columns\n",
        "indices = importances.argsort()[::-1]\n",
        "plt.figure(figsize=(10, 6))\n",
        "plt.title(\"Feature Importances\")\n",
        "plt.bar(range(X_train_new_features.shape[1]), importances[indices], align=\"center\")\n",
        "plt.xticks(range(X_train_new_features.shape[1]), feature_names[indices], rotation=90)\n",
        "plt.tight_layout()\n",
        "plt.show()"
      ],
      "metadata": {
        "id": "Ccgtb5p_r7dV",
        "colab": {
          "base_uri": "https://localhost:8080/",
          "height": 607
        },
        "outputId": "b5049f83-f0ba-45d5-83dc-84e8baebb941"
      },
      "execution_count": null,
      "outputs": [
        {
          "output_type": "display_data",
          "data": {
            "text/plain": [
              "<Figure size 1000x600 with 1 Axes>"
            ],
            "image/png": "[encoded data removed]"
          },
          "metadata": {}
        }
      ]
    },
    {
      "cell_type": "markdown",
      "source": [
        "* the importance of Age and BMi remains the same\n",
        "* We can see a quite high importance of new columns"
      ],
      "metadata": {
        "id": "usr7u_31sJOn"
      }
    },
    {
      "cell_type": "markdown",
      "source": [
        "Let's reduce dimensions and select only 10 best columns using SelectKBest"
      ],
      "metadata": {
        "id": "EOs5VwYoOgnB"
      }
    },
    {
      "cell_type": "code",
      "source": [
        "X= X_train_new_features\n",
        "y=Y_train\n",
        "\n",
        "k_best = SelectKBest(score_func=f_classif, k=10)\n",
        "k_best_fit = k_best.fit(X,y)\n",
        "X.columns[k_best_fit.get_support(indices=True)].tolist()"
      ],
      "metadata": {
        "colab": {
          "base_uri": "https://localhost:8080/"
        },
        "id": "tuTHprbYOvrJ",
        "outputId": "947167b3-fb47-4206-e427-c62310cc0d0c"
      },
      "execution_count": null,
      "outputs": [
        {
          "output_type": "execute_result",
          "data": {
            "text/plain": [
              "['HighBP',\n",
              " 'HighChol',\n",
              " 'BMI',\n",
              " 'HeartDiseaseorAttack',\n",
              " 'DiffWalk',\n",
              " 'Age',\n",
              " 'Income',\n",
              " 'BloodHealth',\n",
              " 'HeartHealth',\n",
              " 'BMI_GenHlth']"
            ]
          },
          "metadata": {},
          "execution_count": 20
        }
      ]
    },
    {
      "cell_type": "code",
      "source": [
        "X_train_10best = X_train_new_features[['HighBP',\n",
        " 'HighChol',\n",
        " 'BMI',\n",
        " 'HeartDiseaseorAttack',\n",
        " 'DiffWalk',\n",
        " 'Age',\n",
        " 'Income',\n",
        " 'BloodHealth',\n",
        " 'HeartHealth',\n",
        " 'BMI_GenHlth']]"
      ],
      "metadata": {
        "id": "_k5UIbGgPDMF"
      },
      "execution_count": null,
      "outputs": []
    },
    {
      "cell_type": "markdown",
      "source": [
        "## DataFrames to test on"
      ],
      "metadata": {
        "id": "AibX9y2qLwIv"
      }
    },
    {
      "cell_type": "markdown",
      "source": [
        "**At this point we have a few different data frames that we can use in our models (with their transormation functions)**\n",
        "\n",
        "1) **train_df_binned_categorical** - Income,Education,BMI,Age binned and categorical encoding (first_tranfosmer)\n",
        "\n",
        "2) **train_df_binned_labeled** - the same df as before but label encoding (second_transformer)\n",
        "\n",
        "3) **train_df_binned2**  - only BMI and Age binned, label encoding (third_transformer)\n",
        "\n",
        "4) **train_df_new_features** - train_df_binned2 with new columns and dropped irrelevant ones (fourth_transformer)\n",
        "\n",
        "6) **train_df_10Best** - train_df_dropped with selectes 10 best columns\n",
        "\n",
        "Also to add some one hot encoded dataframes\n"
      ],
      "metadata": {
        "id": "fyBqq2jrLzRA"
      }
    },
    {
      "cell_type": "markdown",
      "source": [
        "## Fist approach to modeling"
      ],
      "metadata": {
        "id": "OdicMTtK_auo"
      }
    },
    {
      "cell_type": "code",
      "source": [
        "from sklearn.ensemble import RandomForestClassifier\n",
        "from sklearn.tree import DecisionTreeClassifier\n",
        "from sklearn.metrics import roc_auc_score"
      ],
      "metadata": {
        "id": "vdW6J9tkVDNG"
      },
      "execution_count": null,
      "outputs": []
    },
    {
      "cell_type": "markdown",
      "source": [
        "**Random Forest**"
      ],
      "metadata": {
        "id": "t-uQZB4a_dNN"
      }
    },
    {
      "cell_type": "code",
      "source": [
        "# lets try to choose features that were the most important in Random Forest above\n",
        "\n",
        "X= X_train_new_features[['Mental_Phys_Health','BMI_GenHlth', 'Income', 'Age', 'Education', 'BMI', 'Smoker','Sex', 'PhysActivity','BloodHealth']]\n",
        "Y= Y_train\n",
        "Xv = add_new_features_drop_some(X_val)[['Mental_Phys_Health','BMI_GenHlth', 'Income', 'Age', 'Education', 'BMI', 'Smoker','Sex', 'PhysActivity','BloodHealth']]\n",
        "\n",
        "rf = RandomForestClassifier()\n",
        "rf.fit(X,Y)\n",
        "ytrain_predicted = rf.predict_proba(X)\n",
        "yval_predicted = rf.predict_proba(Xv)\n"
      ],
      "metadata": {
        "id": "wuNQ6QMmD7W3"
      },
      "execution_count": null,
      "outputs": []
    },
    {
      "cell_type": "code",
      "source": [
        "auc = roc_auc_score(Y_train, ytrain_predicted, multi_class='ovr')\n",
        "print(\"AUC for training set:\", auc)\n",
        "\n",
        "auc = roc_auc_score(Y_val, yval_predicted, multi_class='ovr')\n",
        "print(\"AUC for training set:\", auc)"
      ],
      "metadata": {
        "colab": {
          "base_uri": "https://localhost:8080/"
        },
        "id": "YZ5Z63v0Fikz",
        "outputId": "e5e42f4b-a6d6-451b-d5bd-7bf38b406f08"
      },
      "execution_count": null,
      "outputs": [
        {
          "output_type": "stream",
          "name": "stdout",
          "text": [
            "AUC for training set: 0.9913675388893305\n",
            "AUC for training set: 0.6320861214013637\n"
          ]
        }
      ]
    },
    {
      "cell_type": "markdown",
      "source": [
        "Very high score on traing set, much lower on validation suggests overfitting in some form"
      ],
      "metadata": {
        "id": "HLS_x5qo1oLv"
      }
    },
    {
      "cell_type": "markdown",
      "source": [
        "Let's tune parameters"
      ],
      "metadata": {
        "id": "eb6WYHkE64qq"
      }
    },
    {
      "cell_type": "code",
      "source": [
        "n_estimators = [int(x) for x in np.linspace(start=10,stop=100,num=10)]\n",
        "max_features =['auto', 'sqrt']\n",
        "max_depth =[2,4]\n",
        "min_samples_split =[2,5]\n",
        "min_samples_leaf = [1,2]\n",
        "bootstrap =[True,False]\n",
        "\n",
        "parameters = {'n_estimators': n_estimators,\n",
        "              'max_features': max_features,\n",
        "              'max_depth': max_depth,\n",
        "              'min_samples_split': min_samples_split,\n",
        "              'min_samples_leaf': min_samples_leaf,\n",
        "              'bootstrap': bootstrap\n",
        "              }"
      ],
      "metadata": {
        "id": "CDk0YSen8dew"
      },
      "execution_count": null,
      "outputs": []
    },
    {
      "cell_type": "code",
      "source": [
        "from sklearn.model_selection import RandomizedSearchCV\n",
        "rf_Randomgrid = RandomizedSearchCV(estimator = rf, param_distributions=parameters, cv=10)\n"
      ],
      "metadata": {
        "id": "Gd9tTqb29Vlm"
      },
      "execution_count": null,
      "outputs": []
    },
    {
      "cell_type": "code",
      "source": [
        "rf_Randomgrid.fit(X,Y)"
      ],
      "metadata": {
        "id": "uDxdwOuC9owH"
      },
      "execution_count": null,
      "outputs": []
    },
    {
      "cell_type": "code",
      "source": [
        "best_rfmodel = rf_Randomgrid.best_estimator_"
      ],
      "metadata": {
        "id": "09-p3C7i9yDX"
      },
      "execution_count": null,
      "outputs": []
    },
    {
      "cell_type": "code",
      "source": [
        "train_prediction = best_rfmodel.predict_proba(X)\n",
        "val_predictions = best_rfmodel.predict_proba(Xv)\n"
      ],
      "metadata": {
        "id": "2kCZ65TK_WHa"
      },
      "execution_count": null,
      "outputs": []
    },
    {
      "cell_type": "code",
      "source": [
        "auc = roc_auc_score(Y_train, train_prediction, multi_class='ovr')\n",
        "print(\"AUC for training set:\", auc)\n",
        "\n",
        "auc = roc_auc_score(Y_val, val_predictions, multi_class='ovr')\n",
        "print(\"AUC for training set:\", auc)"
      ],
      "metadata": {
        "colab": {
          "base_uri": "https://localhost:8080/"
        },
        "id": "fxYZ6JEK_nK7",
        "outputId": "54148cb2-11bf-42ec-d05e-e7011d50a46b"
      },
      "execution_count": null,
      "outputs": [
        {
          "output_type": "stream",
          "name": "stdout",
          "text": [
            "AUC for training set: 0.7684805643606448\n",
            "AUC for training set: 0.7293345096641382\n"
          ]
        }
      ]
    },
    {
      "cell_type": "markdown",
      "source": [
        "Better for validation set but also not too good (To experiment later)"
      ],
      "metadata": {
        "id": "SVmC_OiwAWDs"
      }
    },
    {
      "cell_type": "markdown",
      "source": [
        "**XGBoost**"
      ],
      "metadata": {
        "id": "9qC-1InUAlFc"
      }
    },
    {
      "cell_type": "code",
      "source": [
        "from sklearn.ensemble import GradientBoostingClassifier"
      ],
      "metadata": {
        "id": "JAfqdZHbAmHt"
      },
      "execution_count": null,
      "outputs": []
    },
    {
      "cell_type": "code",
      "source": [
        "gb = GradientBoostingClassifier()\n",
        "X= add_new_features_drop_some(X_train)\n",
        "Y=Y_train\n",
        "Xv = add_new_features_drop_some(X_val)\n",
        "gb.fit(X,Y)\n",
        "train_predictions = gb.predict_proba(X)\n",
        "val_predictions = gb.predict_proba(Xv)"
      ],
      "metadata": {
        "id": "a30kemPzBEFv"
      },
      "execution_count": null,
      "outputs": []
    },
    {
      "cell_type": "code",
      "source": [
        "auc = roc_auc_score(Y_train, train_predictions, multi_class='ovr')\n",
        "print(\"AUC for training set:\", auc)\n",
        "\n",
        "auc = roc_auc_score(Y_val, val_predictions, multi_class='ovr')\n",
        "print(\"AUC for training set:\", auc)"
      ],
      "metadata": {
        "colab": {
          "base_uri": "https://localhost:8080/"
        },
        "id": "tsEqGhZqBZz_",
        "outputId": "11d30df7-fd6a-460a-8065-acc6fe49411e"
      },
      "execution_count": null,
      "outputs": [
        {
          "output_type": "stream",
          "name": "stdout",
          "text": [
            "AUC for training set: 0.7937032937339034\n",
            "AUC for training set: 0.783714600510704\n"
          ]
        }
      ]
    },
    {
      "cell_type": "markdown",
      "source": [
        "A little better"
      ],
      "metadata": {
        "id": "8GzxHz9wCVF-"
      }
    },
    {
      "cell_type": "code",
      "source": [],
      "metadata": {
        "id": "5oejzYcQCXdg"
      },
      "execution_count": null,
      "outputs": []
    },
    {
      "cell_type": "markdown",
      "source": [
        "## Further modeling - yes or no diabetes"
      ],
      "metadata": {
        "id": "MrhitsZ4-lPN"
      }
    },
    {
      "cell_type": "markdown",
      "source": [
        "Let's remove all the \"prediabetes\" cases for prediction if the person has diabetes or no\n",
        "\n"
      ],
      "metadata": {
        "id": "5GZKya5gBOZC"
      }
    },
    {
      "cell_type": "markdown",
      "source": [
        "### Data modification and featuring"
      ],
      "metadata": {
        "id": "3tIUGvgYOy3Z"
      }
    },
    {
      "cell_type": "code",
      "source": [
        "df_1 = df[df['Diabetes_012'] != 1]"
      ],
      "metadata": {
        "id": "5H1yk727Bl31"
      },
      "execution_count": null,
      "outputs": []
    },
    {
      "cell_type": "code",
      "source": [
        "from sklearn.model_selection import train_test_split\n",
        "\n",
        "yy = np.array(df['Diabetes_012'])\n",
        "XX = df.drop(['Diabetes_012'], axis=1)\n",
        "\n",
        "X_train1, X_val1, Y_train1, Y_val1 = train_test_split(XX, yy, stratify=yy, test_size=0.3, random_state=42)\n",
        "\n",
        "X_val1, X_test1, Y_val1, Y_test1 = train_test_split(X_val1, Y_val1, stratify=Y_val1, test_size=0.3, random_state=42)\n",
        "\n",
        "#dane dla grupy walidacyjnej\n",
        "test_df1 = X_test1.copy()\n",
        "test_df1['Diabetes_012']=Y_test1.copy()\n",
        "\n",
        "#dane dla nas do walidowania modeli\n",
        "val_df1 = X_val1.copy()\n",
        "val_df1['Diabetes_012']= Y_val1.copy()\n",
        "\n",
        "#dane do trenowania\n",
        "train_df1 = X_train1.copy()\n",
        "train_df1['Diabetes_012']=Y_train1.copy()\n"
      ],
      "metadata": {
        "id": "Hu3vCBzBHmD2"
      },
      "execution_count": null,
      "outputs": []
    },
    {
      "cell_type": "code",
      "source": [
        "X_train1 = add_new_features_drop_some(X_train1)"
      ],
      "metadata": {
        "id": "VZg3fGCrbkau"
      },
      "execution_count": null,
      "outputs": []
    },
    {
      "cell_type": "code",
      "source": [
        "X_train1 = first_binning(X_train1)"
      ],
      "metadata": {
        "id": "6MeRjjbCa3Iw"
      },
      "execution_count": null,
      "outputs": []
    },
    {
      "cell_type": "code",
      "source": [
        "X_val1 = add_new_features_drop_some(X_val1)"
      ],
      "metadata": {
        "id": "a9x2uqKVb7jv"
      },
      "execution_count": null,
      "outputs": []
    },
    {
      "cell_type": "code",
      "source": [
        "X_val1 = first_binning(X_val1)"
      ],
      "metadata": {
        "id": "M0NgJcBXImwU"
      },
      "execution_count": null,
      "outputs": []
    },
    {
      "cell_type": "code",
      "source": [
        "X_train1 = X_train1[['Mental_Phys_Health','BMI_GenHlth', 'Income', 'Age', 'Education', 'BMI', 'Smoker','Sex', 'PhysActivity','BloodHealth']]\n",
        "X_val1 = X_val1[['Mental_Phys_Health','BMI_GenHlth', 'Income', 'Age', 'Education', 'BMI', 'Smoker','Sex', 'PhysActivity','BloodHealth']]"
      ],
      "metadata": {
        "id": "v8LELZXZZYRX"
      },
      "execution_count": null,
      "outputs": []
    },
    {
      "cell_type": "code",
      "source": [
        "from sklearn.preprocessing import LabelEncoder\n",
        "\n",
        "def label_encoding_half(X):\n",
        "  A= X.copy()\n",
        "  label_encoder = LabelEncoder()\n",
        "  A['BMI'] = label_encoder.fit_transform(A['BMI'])\n",
        "  A['Age'] = label_encoder.fit_transform(A['Age'])\n",
        "  A['Income'] = label_encoder.fit_transform(A['Income'])\n",
        "  A['Education'] = label_encoder.fit_transform(A['Education'])\n",
        "  return A"
      ],
      "metadata": {
        "id": "wqFBNT1DdCnS"
      },
      "execution_count": null,
      "outputs": []
    },
    {
      "cell_type": "code",
      "source": [
        "X_train1 = label_encoding_half(X_train1)"
      ],
      "metadata": {
        "id": "0747hjfLcpoH"
      },
      "execution_count": null,
      "outputs": []
    },
    {
      "cell_type": "code",
      "source": [
        "X_val1 = label_encoding_half(X_val1)"
      ],
      "metadata": {
        "id": "JQy5dJggdUdN"
      },
      "execution_count": null,
      "outputs": []
    },
    {
      "cell_type": "markdown",
      "source": [
        "### Random forest"
      ],
      "metadata": {
        "id": "9aMmwlcBOc-9"
      }
    },
    {
      "cell_type": "code",
      "source": [
        "from sklearn.ensemble import RandomForestClassifier\n",
        "\n",
        "rf = RandomForestClassifier()\n",
        "rf.fit(X_train1, Y_train1)"
      ],
      "metadata": {
        "colab": {
          "base_uri": "https://localhost:8080/",
          "height": 74
        },
        "id": "HGYI5RtNP2kI",
        "outputId": "912bd07a-0fdc-4021-840a-de5bb46879a7"
      },
      "execution_count": null,
      "outputs": [
        {
          "output_type": "execute_result",
          "data": {
            "text/plain": [
              "RandomForestClassifier()"
            ],
            "text/html": [
              "<style>#sk-container-id-1 {color: black;background-color: white;}#sk-container-id-1 pre{padding: 0;}#sk-container-id-1 div.sk-toggleable {background-color: white;}#sk-container-id-1 label.sk-toggleable__label {cursor: pointer;display: block;width: 100%;margin-bottom: 0;padding: 0.3em;box-sizing: border-box;text-align: center;}#sk-container-id-1 label.sk-toggleable__label-arrow:before {content: \"▸\";float: left;margin-right: 0.25em;color: #696969;}#sk-container-id-1 label.sk-toggleable__label-arrow:hover:before {color: black;}#sk-container-id-1 div.sk-estimator:hover label.sk-toggleable__label-arrow:before {color: black;}#sk-container-id-1 div.sk-toggleable__content {max-height: 0;max-width: 0;overflow: hidden;text-align: left;background-color: #f0f8ff;}#sk-container-id-1 div.sk-toggleable__content pre {margin: 0.2em;color: black;border-radius: 0.25em;background-color: #f0f8ff;}#sk-container-id-1 input.sk-toggleable__control:checked~div.sk-toggleable__content {max-height: 200px;max-width: 100%;overflow: auto;}#sk-container-id-1 input.sk-toggleable__control:checked~label.sk-toggleable__label-arrow:before {content: \"▾\";}#sk-container-id-1 div.sk-estimator input.sk-toggleable__control:checked~label.sk-toggleable__label {background-color: #d4ebff;}#sk-container-id-1 div.sk-label input.sk-toggleable__control:checked~label.sk-toggleable__label {background-color: #d4ebff;}#sk-container-id-1 input.sk-hidden--visually {border: 0;clip: rect(1px 1px 1px 1px);clip: rect(1px, 1px, 1px, 1px);height: 1px;margin: -1px;overflow: hidden;padding: 0;position: absolute;width: 1px;}#sk-container-id-1 div.sk-estimator {font-family: monospace;background-color: #f0f8ff;border: 1px dotted black;border-radius: 0.25em;box-sizing: border-box;margin-bottom: 0.5em;}#sk-container-id-1 div.sk-estimator:hover {background-color: #d4ebff;}#sk-container-id-1 div.sk-parallel-item::after {content: \"\";width: 100%;border-bottom: 1px solid gray;flex-grow: 1;}#sk-container-id-1 div.sk-label:hover label.sk-toggleable__label {background-color: #d4ebff;}#sk-container-id-1 div.sk-serial::before {content: \"\";position: absolute;border-left: 1px solid gray;box-sizing: border-box;top: 0;bottom: 0;left: 50%;z-index: 0;}#sk-container-id-1 div.sk-serial {display: flex;flex-direction: column;align-items: center;background-color: white;padding-right: 0.2em;padding-left: 0.2em;position: relative;}#sk-container-id-1 div.sk-item {position: relative;z-index: 1;}#sk-container-id-1 div.sk-parallel {display: flex;align-items: stretch;justify-content: center;background-color: white;position: relative;}#sk-container-id-1 div.sk-item::before, #sk-container-id-1 div.sk-parallel-item::before {content: \"\";position: absolute;border-left: 1px solid gray;box-sizing: border-box;top: 0;bottom: 0;left: 50%;z-index: -1;}#sk-container-id-1 div.sk-parallel-item {display: flex;flex-direction: column;z-index: 1;position: relative;background-color: white;}#sk-container-id-1 div.sk-parallel-item:first-child::after {align-self: flex-end;width: 50%;}#sk-container-id-1 div.sk-parallel-item:last-child::after {align-self: flex-start;width: 50%;}#sk-container-id-1 div.sk-parallel-item:only-child::after {width: 0;}#sk-container-id-1 div.sk-dashed-wrapped {border: 1px dashed gray;margin: 0 0.4em 0.5em 0.4em;box-sizing: border-box;padding-bottom: 0.4em;background-color: white;}#sk-container-id-1 div.sk-label label {font-family: monospace;font-weight: bold;display: inline-block;line-height: 1.2em;}#sk-container-id-1 div.sk-label-container {text-align: center;}#sk-container-id-1 div.sk-container {/* jupyter's `normalize.less` sets `[hidden] { display: none; }` but bootstrap.min.css set `[hidden] { display: none !important; }` so we also need the `!important` here to be able to override the default hidden behavior on the sphinx rendered scikit-learn.org. See: https://github.com/scikit-learn/scikit-learn/issues/21755 */display: inline-block !important;position: relative;}#sk-container-id-1 div.sk-text-repr-fallback {display: none;}</style><div id=\"sk-container-id-1\" class=\"sk-top-container\"><div class=\"sk-text-repr-fallback\"><pre>RandomForestClassifier()</pre><b>In a Jupyter environment, please rerun this cell to show the HTML representation or trust the notebook. <br />On GitHub, the HTML representation is unable to render, please try loading this page with nbviewer.org.</b></div><div class=\"sk-container\" hidden><div class=\"sk-item\"><div class=\"sk-estimator sk-toggleable\"><input class=\"sk-toggleable__control sk-hidden--visually\" id=\"sk-estimator-id-1\" type=\"checkbox\" checked><label for=\"sk-estimator-id-1\" class=\"sk-toggleable__label sk-toggleable__label-arrow\">RandomForestClassifier</label><div class=\"sk-toggleable__content\"><pre>RandomForestClassifier()</pre></div></div></div></div></div>"
            ]
          },
          "metadata": {},
          "execution_count": 39
        }
      ]
    },
    {
      "cell_type": "code",
      "source": [
        "ytrain_predict = rf.predict_proba(X_train1)\n",
        "yval_predict = rf.predict_proba(X_val1)"
      ],
      "metadata": {
        "id": "8wKot9dvH0Uh"
      },
      "execution_count": null,
      "outputs": []
    },
    {
      "cell_type": "code",
      "source": [
        "from sklearn.metrics import roc_auc_score\n",
        "\n",
        "auc = roc_auc_score(Y_train, ytrain_predict, multi_class='ovr')\n",
        "print(\"AUC for training set:\", auc)\n",
        "\n",
        "auc = roc_auc_score(Y_val, yval_predict, multi_class='ovr')\n",
        "print(\"AUC for training set:\", auc)"
      ],
      "metadata": {
        "colab": {
          "base_uri": "https://localhost:8080/"
        },
        "id": "MWlcZ2KWUKLR",
        "outputId": "679dcca2-31f0-481b-a8c6-e9dfbf418cb0"
      },
      "execution_count": null,
      "outputs": [
        {
          "output_type": "stream",
          "name": "stdout",
          "text": [
            "AUC for training set: 0.9786286091298608\n",
            "AUC for training set: 0.6936702173506403\n"
          ]
        }
      ]
    },
    {
      "cell_type": "code",
      "source": [
        "n_estimators = [int(x) for x in np.linspace(start=10,stop=100,num=10)]\n",
        "max_features =['auto', 'sqrt']\n",
        "max_depth =[2,4]\n",
        "min_samples_split =[2,5]\n",
        "min_samples_leaf = [1,2]\n",
        "bootstrap =[True,False]\n",
        "\n",
        "parameters = {'n_estimators': n_estimators,\n",
        "              'max_features': max_features,\n",
        "              'max_depth': max_depth,\n",
        "              'min_samples_split': min_samples_split,\n",
        "              'min_samples_leaf': min_samples_leaf,\n",
        "              'bootstrap': bootstrap\n",
        "              }\n"
      ],
      "metadata": {
        "id": "BbeZAk2HJupx"
      },
      "execution_count": null,
      "outputs": []
    },
    {
      "cell_type": "code",
      "source": [
        "from sklearn.model_selection import RandomizedSearchCV\n",
        "rf_Randomgrid = RandomizedSearchCV(estimator = rf, param_distributions=parameters, cv=10)\n"
      ],
      "metadata": {
        "id": "QpfQmGGpJ16L"
      },
      "execution_count": null,
      "outputs": []
    },
    {
      "cell_type": "code",
      "source": [
        "rf_Randomgrid.fit(X_train1,Y_train1)"
      ],
      "metadata": {
        "id": "Y7aDCFwJJ_Ko"
      },
      "execution_count": null,
      "outputs": []
    },
    {
      "cell_type": "code",
      "source": [
        "best_rfmodel = rf_Randomgrid.best_estimator_"
      ],
      "metadata": {
        "id": "rbJlqn52KHeG"
      },
      "execution_count": null,
      "outputs": []
    },
    {
      "cell_type": "code",
      "source": [
        "train_predictions = best_rfmodel.predict_proba(X_train1)\n",
        "val_predictions = best_rfmodel.predict_proba(X_val1)"
      ],
      "metadata": {
        "id": "WiHbSVtJKOrh"
      },
      "execution_count": null,
      "outputs": []
    },
    {
      "cell_type": "code",
      "source": [
        "auc = roc_auc_score(Y_train1, train_predictions, multi_class='ovr')\n",
        "print(\"AUC for training set:\", auc)\n",
        "\n",
        "auc = roc_auc_score(Y_val1, val_predictions, multi_class='ovr')\n",
        "print(\"AUC for validation set:\", auc)"
      ],
      "metadata": {
        "colab": {
          "base_uri": "https://localhost:8080/"
        },
        "id": "JPL8phtUKVk7",
        "outputId": "b027dd27-a648-49bb-e9c6-dd345218bca0"
      },
      "execution_count": null,
      "outputs": [
        {
          "output_type": "stream",
          "name": "stdout",
          "text": [
            "AUC for training set: 0.7668479849393918\n",
            "AUC for validation set: 0.7682643216153382\n"
          ]
        }
      ]
    },
    {
      "cell_type": "markdown",
      "source": [
        "### Naive Bayes"
      ],
      "metadata": {
        "id": "yS74GzHfOOEl"
      }
    },
    {
      "cell_type": "code",
      "source": [
        "from sklearn.naive_bayes import GaussianNB\n",
        "\n",
        "model = GaussianNB()\n",
        "\n",
        "model.fit(X_train1, Y_train1)\n",
        "\n",
        "y_pred_proba_train = model.predict_proba(X_train1)\n",
        "y_pred_proba_val = model.predict_proba(X_val1)"
      ],
      "metadata": {
        "id": "FlzncrYxNSaf"
      },
      "execution_count": null,
      "outputs": []
    },
    {
      "cell_type": "code",
      "source": [
        "auc = roc_auc_score(Y_train, y_pred_proba_train, multi_class='ovr')\n",
        "print(\"AUC for training set:\", auc)\n",
        "\n",
        "auc = roc_auc_score(Y_val, y_pred_proba_val, multi_class='ovr')\n",
        "print(\"AUC for validation set:\", auc)"
      ],
      "metadata": {
        "colab": {
          "base_uri": "https://localhost:8080/"
        },
        "id": "IDjNq7g6N9fP",
        "outputId": "23599544-93eb-4666-f065-8d310c9ac2bc"
      },
      "execution_count": null,
      "outputs": [
        {
          "output_type": "stream",
          "name": "stdout",
          "text": [
            "AUC for training set: 0.7564328907826479\n",
            "AUC for training set: 0.755883511185273\n"
          ]
        }
      ]
    },
    {
      "cell_type": "markdown",
      "source": [
        "### KNN"
      ],
      "metadata": {
        "id": "xnyepFf5PFjj"
      }
    },
    {
      "cell_type": "code",
      "source": [
        "from sklearn.neighbors import KNeighborsClassifier\n",
        "\n",
        "model = KNeighborsClassifier()\n",
        "\n",
        "model.fit(X_train1, Y_train1)\n",
        "\n",
        "y_pred_proba_train = model.predict_proba(X_train1)\n",
        "y_pred_proba_val = model.predict_proba(X_val1)"
      ],
      "metadata": {
        "id": "QuVweBWqPIvU"
      },
      "execution_count": null,
      "outputs": []
    },
    {
      "cell_type": "code",
      "source": [
        "auc = roc_auc_score(Y_train, y_pred_proba_train, multi_class='ovr')\n",
        "print(\"AUC for training set:\", auc)\n",
        "\n",
        "auc = roc_auc_score(Y_val, y_pred_proba_val, multi_class='ovr')\n",
        "print(\"AUC for training set:\", auc)"
      ],
      "metadata": {
        "colab": {
          "base_uri": "https://localhost:8080/"
        },
        "id": "vk4Obz1gPPry",
        "outputId": "5c807fce-b48f-4eab-ecb5-400fe9908cdc"
      },
      "execution_count": null,
      "outputs": [
        {
          "output_type": "stream",
          "name": "stdout",
          "text": [
            "AUC for training set: 0.8842178259219521\n",
            "AUC for training set: 0.647490793554475\n"
          ]
        }
      ]
    },
    {
      "cell_type": "markdown",
      "source": [
        "### LGBM"
      ],
      "metadata": {
        "id": "i4L3bgOJP1ll"
      }
    },
    {
      "cell_type": "code",
      "source": [
        "import lightgbm as lgb\n",
        "\n",
        "model = lgb.LGBMClassifier()\n",
        "\n",
        "model.fit(X_train, Y_train)\n",
        "\n",
        "y_pred_proba_train = model.predict_proba(X_train)\n",
        "y_pred_proba_val = model.predict_proba(X_val)"
      ],
      "metadata": {
        "colab": {
          "base_uri": "https://localhost:8080/"
        },
        "id": "v_JmKjg6P7R-",
        "outputId": "5db340af-aa81-4087-d3d4-c4e45ead0846"
      },
      "execution_count": null,
      "outputs": [
        {
          "output_type": "stream",
          "name": "stdout",
          "text": [
            "[LightGBM] [Info] Auto-choosing row-wise multi-threading, the overhead of testing was 0.035620 seconds.\n",
            "You can set `force_row_wise=true` to remove the overhead.\n",
            "And if memory is not enough, you can set `force_col_wise=true`.\n",
            "[LightGBM] [Info] Total Bins 201\n",
            "[LightGBM] [Info] Number of data points in the train set: 177576, number of used features: 21\n",
            "[LightGBM] [Info] Start training from score -0.171487\n",
            "[LightGBM] [Info] Start training from score -4.003208\n",
            "[LightGBM] [Info] Start training from score -1.970896\n"
          ]
        }
      ]
    },
    {
      "cell_type": "code",
      "source": [
        "auc = roc_auc_score(Y_train, y_pred_proba_train, multi_class='ovr')\n",
        "print(\"AUC for training set:\", auc)\n",
        "\n",
        "auc = roc_auc_score(Y_val, y_pred_proba_val, multi_class='ovr')\n",
        "print(\"AUC for training set:\", auc)"
      ],
      "metadata": {
        "colab": {
          "base_uri": "https://localhost:8080/"
        },
        "id": "NRiYvBRlQKTG",
        "outputId": "2d88b3af-248f-48ac-e28e-3f6fb9a61c67"
      },
      "execution_count": null,
      "outputs": [
        {
          "output_type": "stream",
          "name": "stdout",
          "text": [
            "AUC for training set: 0.8286842981071377\n",
            "AUC for training set: 0.7844024578683723\n"
          ]
        }
      ]
    }
  ]
}